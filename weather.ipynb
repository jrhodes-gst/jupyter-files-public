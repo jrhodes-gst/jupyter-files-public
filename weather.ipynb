{
 "cells": [
  {
   "cell_type": "markdown",
   "id": "3c88f07a-d1f7-48ff-bc79-cf7c307d1175",
   "metadata": {},
   "source": [
    "# How to access other weather datasets"
   ]
  },
  {
   "cell_type": "markdown",
   "id": "5cb6ba10-a9f6-435c-a73e-b9b3526f8a55",
   "metadata": {},
   "source": [
    "##### Mesonet"
   ]
  },
  {
   "cell_type": "code",
   "execution_count": null,
   "id": "aaa9ef00-9c99-485e-bff2-ecba55e6ee6f",
   "metadata": {
    "tags": []
   },
   "outputs": [],
   "source": [
    "# Pick date and hour\n",
    "date = \"20231124\"\n",
    "hour = \"1200\"\n",
    "\n",
    "\n",
    "f = h5pyd.File(f'/home/usda1/mesonet/ldad-mesonet-{date}_{hour}.nc4', 'r', 'http://4.151.248.251')\n",
    "\n",
    "dt1 = [id.tobytes().decode('utf-8') for id in f[\"stationId\"]]\n",
    "dt2 = f[\"temperature\"]\n",
    "dt3 = f[\"relHumidity\"]\n",
    "dt4 = f[\"soilTemperature\"]\n",
    "dt5 = f[\"soilMoisture\"]\n",
    "dt6 = f[\"windDir\"]\n",
    "dt7 = f[\"windSpeed\"]\n",
    "dt8 = f[\"latitude\"]\n",
    "dt9 = f[\"longitude\"]\n",
    "df = pd.DataFrame({\"stationId\": dt1[:], \n",
    "                   \"temperature\": dt2[:],\n",
    "                  \"relHumidity\": dt3[:],\n",
    "                  \"soilTemperature\": dt4[:],\n",
    "                   \"soilMoisture\": dt5[:],\n",
    "                   \"windDir\": dt6[:],\n",
    "                   \"windSpeed\": dt7[:],\n",
    "                  \"latitude\": dt8[:],\n",
    "                  \"longitude\": dt9[:]\n",
    "                  })\n",
    "\n",
    "df\n",
    "\n",
    "# Convert to CSV:\n",
    "# df.to_csv(f'ldad-mesonet-{date}_{hour}.csv', escapechar='\"', index=False)"
   ]
  },
  {
   "cell_type": "markdown",
   "id": "13a8006e-f6d4-4717-b0eb-ac3a930e7955",
   "metadata": {},
   "source": [
    "##### Hydro - CoCoRaHS"
   ]
  },
  {
   "cell_type": "code",
   "execution_count": null,
   "id": "0dc43683-0f26-4b09-8589-b8fd1f41de86",
   "metadata": {
    "tags": []
   },
   "outputs": [],
   "source": [
    "f = h5pyd.File(f'/home/usda1/hydro/ldad-hydro-{date}_{hour}.nc4', 'r', 'http://4.151.248.251')\n",
    "\n",
    "# List available datasets\n",
    "# print(list(f))\n",
    "\n",
    "dt1 = [id.tobytes().decode('utf-8') for id in f[\"stationId\"]]\n",
    "dt2 = f[\"precip24hr\"]\n",
    "dt8 = f[\"latitude\"]\n",
    "dt9 = f[\"longitude\"]\n",
    "df = pd.DataFrame({\"stationId\": dt1[:], \n",
    "                   \"precip24hr\": dt2[:],\n",
    "                  \"latitude\": dt8[:],\n",
    "                  \"longitude\": dt9[:]\n",
    "                  })\n",
    "df\n",
    "\n",
    "# Convert to CSV:\n",
    "# df.to_csv(f'ldad-hydro-{date}_{hour}.csv', escapechar='\"', index=False)"
   ]
  },
  {
   "cell_type": "code",
   "execution_count": null,
   "id": "bf78499d-a094-4730-8398-fde72132fcf9",
   "metadata": {},
   "outputs": [],
   "source": []
  }
 ],
 "metadata": {
  "kernelspec": {
   "display_name": "Python 3 (ipykernel)",
   "language": "python",
   "name": "python3"
  },
  "language_info": {
   "codemirror_mode": {
    "name": "ipython",
    "version": 3
   },
   "file_extension": ".py",
   "mimetype": "text/x-python",
   "name": "python",
   "nbconvert_exporter": "python",
   "pygments_lexer": "ipython3",
   "version": "3.11.6"
  }
 },
 "nbformat": 4,
 "nbformat_minor": 5
}
