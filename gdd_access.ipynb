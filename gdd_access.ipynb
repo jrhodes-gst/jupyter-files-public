{
 "cells": [
  {
   "cell_type": "markdown",
   "id": "5b7c96ff-a303-4c15-92ba-5c64620e895a",
   "metadata": {},
   "source": [
    "# Access GDD files in ArcGIS and HSDS"
   ]
  },
  {
   "cell_type": "markdown",
   "id": "bdefbe85-a532-4f25-9b9d-912a023185e9",
   "metadata": {},
   "source": [
    "##### Get GDD file from HSDS to CSV"
   ]
  },
  {
   "cell_type": "code",
   "execution_count": 17,
   "id": "330d7277-76dd-4a7b-a4ad-037fb8450cdd",
   "metadata": {
    "tags": []
   },
   "outputs": [],
   "source": [
    "import h5pyd\n",
    "import pandas as pd\n",
    "from datetime import datetime, timedelta\n",
    "\n",
    "# Get yesterday's date\n",
    "date = (datetime.today() - timedelta(days=1)).strftime(\"%Y%m%d\")\n",
    "\n",
    "# Load the GDD file from HSDS\n",
    "f = h5pyd.File(f\"/home/usda1/mesonet/ldad-mesonet-{date}_gdd.nc4\", 'r', 'http://4.151.248.251')\n",
    "\n",
    "# Convert the data into a pandas dataframe\n",
    "df = pd.DataFrame({\n",
    "                  \"stationId\": [id.decode('utf-8') for id in f['stationId']][:], \n",
    "                  \"obsTimeMin\": [d.decode('utf-8') for d in f['obsTimeMin']][:],\n",
    "                  \"minTemp\": [round(n,2) for n in f[\"minTemp\"]][:],\n",
    "                  \"obsTimeMax\": [d.decode('utf-8') for d in f['obsTimeMax']][:],\n",
    "                  \"maxTemp\": [round(n,2) for n in f[\"maxTemp\"]][:],\n",
    "                  \"avgTemp\": [round(n,2) for n in f[\"avgTemp\"]][:],\n",
    "                  \"gdd\": [round(n,2) for n in f[\"gdd\"]][:],\n",
    "                  \"latitude\": [round(n,2) for n in f[\"latitude\"]][:],\n",
    "                  \"longitude\": [round(n,2) for n in f[\"longitude\"]][:]\n",
    "                  })\n",
    "\n",
    "# Convert the dataframe into a CSV file\n",
    "df.to_csv(f'ldad-mesonet-{date}_gdd.csv', escapechar='\"', index=False)"
   ]
  },
  {
   "cell_type": "markdown",
   "id": "a3f8018d-a30f-419d-aff1-b274a9fae56a",
   "metadata": {},
   "source": [
    "##### Get GDD file from ArcGIS to CSV"
   ]
  },
  {
   "cell_type": "code",
   "execution_count": 18,
   "id": "5ec2b07e-56f1-421a-aec7-1f100126fab5",
   "metadata": {
    "tags": []
   },
   "outputs": [],
   "source": [
    "import pandas as pd\n",
    "import requests\n",
    "from io import StringIO\n",
    "\n",
    "import arcgis\n",
    "from arcgis.gis import GIS\n",
    "from datetime import datetime, timedelta\n",
    "\n",
    "pdi = GIS(url=\"https://pdi-development.scinet.usda.gov/portal\")\n",
    "\n",
    "# Get yesterday's date\n",
    "date = (datetime.today() - timedelta(days=1)).strftime(\"%Y%m%d\")\n",
    "\n",
    "csv_item = pdi.content.search(query=f'ldad-mesonet-{date}_gdd type:CSV')[0]\n",
    "csv_url = f\"https://pdi-development.scinet.usda.gov/portal/sharing/rest/content/items/{csv_item.id}/data\"\n",
    "response = requests.get(csv_url)\n",
    "if response.status_code == 200:\n",
    "    csv_data = StringIO(response.text)\n",
    "    df = pd.read_csv(csv_data)\n",
    "    df = df.drop(['fid', 'x', 'y'], axis=1)\n",
    "    for col in df.columns:\n",
    "        if df[col].dtype == 'float64':\n",
    "            df[col] = round(df[col],2)\n",
    "    df.to_csv(f'ldad-mesonet-{date}_gdd.csv', escapechar='\"', index=False)\n",
    "else:\n",
    "    print(f\"Failed to download file. Status code: {response.status_code}\")"
   ]
  }
 ],
 "metadata": {
  "kernelspec": {
   "display_name": "Python 3 (ipykernel)",
   "language": "python",
   "name": "python3"
  },
  "language_info": {
   "codemirror_mode": {
    "name": "ipython",
    "version": 3
   },
   "file_extension": ".py",
   "mimetype": "text/x-python",
   "name": "python",
   "nbconvert_exporter": "python",
   "pygments_lexer": "ipython3",
   "version": "3.11.6"
  }
 },
 "nbformat": 4,
 "nbformat_minor": 5
}
